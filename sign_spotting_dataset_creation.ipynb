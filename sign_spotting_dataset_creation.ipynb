{
 "cells": [
  {
   "cell_type": "markdown",
   "id": "c6a530ee",
   "metadata": {},
   "source": [
    "# Dataset creation for sign spotting\n",
    "Here, we preprocess the data from the Corpus NGT and split it up by its annotations. The data corresponding to an annotation are then sampled so they are of a fixed length. \n",
    "\n",
    "If the target fixed length is X frames, we can check if an annotation is already X frames long. If so, we can simply add its (preprocessed) data as a new entry in the train, validation or test set. If instead the length of the annotation is less than X frames, we add zero padding. \n",
    "\n",
    "If the annotation is longer than X frames, we undersample the frames. For instance, assuming we have a target length X=10 and an annotation with 22 frames, we first drop every other (every second) frame to get to 11 frames. We do not use random undersampling here to ensure at least some of the temporal structure of the annotation is maintained. Then, we drop 1 more frame randomly to get to our target of 10 frames.\n",
    "\n",
    "We first create the dataset using the above method, before repeating the 'dataset creation' for the purposes of checking the correlation between the used features. The repeat is needed because for the correlation analysis, we do not want to  undersampling and zero padding be done, we simply use the annotations at their original length. After preparing for the correlation analysis, we use masking of the NaN values to not skew the correlation (e.g. by replacing NaNs with zeros). Lastly, we find out which features have correlation above some threshold so we can discard them before training our sign spotting model."
   ]
  },
  {
   "cell_type": "code",
   "execution_count": 1,
   "id": "75e0d7eb",
   "metadata": {},
   "outputs": [],
   "source": [
    "# Imports\n",
    "import pympi\n",
    "import os\n",
    "import numpy as np\n",
    "import numpy.ma as ma\n",
    "import pandas as pd\n",
    "from sklearn import preprocessing\n",
    "\n",
    "import importlib\n",
    "\n",
    "# Keep python tools up to date\n",
    "from tools import tools, feature_extraction, constants, mediapipe_tools, make_dataset\n",
    "importlib.reload(mediapipe_tools)\n",
    "importlib.reload(tools)\n",
    "importlib.reload(constants)\n",
    "importlib.reload(feature_extraction)\n",
    "importlib.reload(make_dataset)\n",
    "\n",
    "# Import all functions from the tools\n",
    "from tools.tools import*\n",
    "from tools.mediapipe_tools import normalise_coordinates, get_pixel_coordinates\n",
    "from tools.constants import PATHS # Path constants\n",
    "from tools.feature_extraction import get_wrist_angle_distance\n",
    "from tools.make_dataset import make_dataset\n",
    "\n",
    "np.random.seed(123) # Set random seed for consistency"
   ]
  },
  {
   "cell_type": "code",
   "execution_count": 2,
   "id": "9163a10d",
   "metadata": {},
   "outputs": [
    {
     "name": "stdout",
     "output_type": "stream",
     "text": [
      "Number of CNGT files when split into numpy files: 3420\n"
     ]
    }
   ],
   "source": [
    "# We find all of the landmark files, split up by the different areas\n",
    "# E.g. 'face' has its own numpy file for each video\n",
    "path = PATHS['np_landmarks']\n",
    "cngt_lmrks = find_files(path, '.npy')\n",
    "print('Number of CNGT files when split into numpy files:', len(cngt_lmrks))"
   ]
  },
  {
   "cell_type": "code",
   "execution_count": 3,
   "id": "6866b8f0",
   "metadata": {},
   "outputs": [
    {
     "name": "stdout",
     "output_type": "stream",
     "text": [
      "Loading annotations...\n"
     ]
    }
   ],
   "source": [
    "# Root where all the annotated .eaf sign files are present\n",
    "dataset_root = PATHS['cngt_vids_and_eaf']\n",
    "\n",
    "# This is a path to a file of annotations tailored to the dataset creation\n",
    "# It only distinguishes between handedness, not manual simultaneity\n",
    "# Because we don't care about whether another sign is produced simultaneously\n",
    "# For making the dataset, we only want to make sure two-handed signs\n",
    "# Are added once as an annotation and not twice, so that's why we distinguish handedness\n",
    "dataset_anns_path = PATHS['dataset_anns']\n",
    "\n",
    "# List the .eaf files in the root directory to investigate\n",
    "anns_in_dir = [file for file in os.listdir(dataset_root) if file.endswith('.eaf')]\n",
    "\n",
    "# Loading the annotations for the dataset-tailored annotations\n",
    "# Or we create them if they don't exist yet\n",
    "if os.path.exists(dataset_anns_path):\n",
    "    print('Loading annotations...')\n",
    "    anns_with_tiers = load_dict(dataset_anns_path)\n",
    "else:\n",
    "    print('Making annotations without manual simultaneity...')\n",
    "    anns_with_tiers = {}\n",
    "    for i, ann_file in enumerate(anns_in_dir):\n",
    "        print(i, end = '\\r')\n",
    "        # Read in the Eaf file \n",
    "        eaf_file = pympi.Elan.Eaf(os.path.join(dataset_root, ann_file))\n",
    "\n",
    "        # Get the glosses and mouthings of the file\n",
    "        anns_dict, _ = get_gloss_vals(eaf_file, True)\n",
    "        # As explained above, we only distinguish handedness and not simultaneity\n",
    "        anns_dict = man_sim_and_hand_dist(anns_dict, manual_sim = False)\n",
    "\n",
    "        # Store the glosses, mouthings and tiers\n",
    "        anns_with_tiers[ann_file] = anns_dict\n",
    "    print('Storing...')\n",
    "    with open(dataset_anns_path, 'wb') as f:\n",
    "        pickle.dump(anns_with_tiers, f)\n",
    "        \n",
    "# Signbank dictionary info\n",
    "df = pd.read_csv(PATHS['signbank_with_linguistics'])\n",
    "\n",
    "# Dictionary which contains which videos (and signers) belong in test/train set\n",
    "id_split = load_dict(PATHS['CNGT_split_ids'])\n",
    "\n",
    "# Using only the top X signs if we have a list of them\n",
    "top = -1\n",
    "top_signs_path = PATHS['top_signs'].format(top)\n",
    "if os.path.exists(top_signs_path):\n",
    "    top_signs = np.load(top_signs_path)\n",
    "else:\n",
    "    top_signs = []"
   ]
  },
  {
   "cell_type": "code",
   "execution_count": 4,
   "id": "466cf900",
   "metadata": {},
   "outputs": [
    {
     "name": "stdout",
     "output_type": "stream",
     "text": [
      "Signer split across train, validation and test sets\n",
      "Train ['S001', 'S002', 'S003', 'S004', 'S005', 'S006', 'S007', 'S008', 'S009', 'S010', 'S013', 'S014', 'S015', 'S016', 'S017', 'S018', 'S021', 'S022', 'S023', 'S024', 'S025', 'S026', 'S029', 'S030', 'S031', 'S032', 'S033', 'S034', 'S035', 'S036', 'S037', 'S038', 'S043', 'S044', 'S045', 'S049', 'S050', 'S059', 'S060', 'S061', 'S062', 'S063', 'S064', 'S065', 'S066', 'S067', 'S068', 'S069', 'S070', 'S075', 'S076', 'S077', 'S078', 'S083', 'S084', 'S087', 'S088', 'S089', 'S090', 'S091', 'S092']\n",
      "Val ['S011', 'S012', 'S019', 'S020', 'S027', 'S028', 'S039', 'S040', 'S041', 'S045', 'S046', 'S047', 'S048', 'S051', 'S052', 'S055', 'S056', 'S058', 'S071', 'S072', 'S073', 'S074', 'S079', 'S080', 'S081', 'S082', 'S085', 'S086']\n",
      "Test ['S011', 'S012', 'S019', 'S020', 'S027', 'S028', 'S039', 'S040', 'S041', 'S042', 'S045', 'S046', 'S047', 'S048', 'S051', 'S052', 'S053', 'S054', 'S055', 'S056', 'S057', 'S058', 'S071', 'S072', 'S073', 'S074', 'S080', 'S081', 'S082', 'S085', 'S086']\n"
     ]
    }
   ],
   "source": [
    "print('Signer split across train, validation and test sets')\n",
    "# Printing which signers belong in the train, validation and test set\n",
    "for key in id_split:\n",
    "    print(key, sorted(set([x.split('_')[-1] for x in id_split[key]])))\n",
    "# Note that the val and test sets are allowed to have the same signers (same Sxxx)\n",
    "# But that they should contain different videos\n",
    "val_vids = id_split['Val']\n",
    "test_vids = id_split['Test']"
   ]
  },
  {
   "cell_type": "markdown",
   "id": "ef97ee55",
   "metadata": {},
   "source": [
    "# Data preprocessing and feature extraction\n",
    "**Note:** this codeblock can take a while to run for the first time due to the preprocessing and extraction for each video being computationally heavy. \n",
    "\n",
    "*Expected runtime: 15-30min*"
   ]
  },
  {
   "cell_type": "code",
   "execution_count": 5,
   "id": "b8dea359",
   "metadata": {
    "scrolled": true
   },
   "outputs": [
    {
     "name": "stdout",
     "output_type": "stream",
     "text": [
      "Feature-extracted data exists, loading...\n",
      "Done!\n",
      "CPU times: total: 1.8 s\n",
      "Wall time: 31.4 s\n"
     ]
    }
   ],
   "source": [
    "%%time\n",
    "# Here we pick if we want to make a dataset with feature extraction (based on linguistics)\n",
    "# Or if we want to just extract the landmarks (done if only_features = False)\n",
    "only_features = True\n",
    "features = '' if only_features else '_only_lmrks'\n",
    "\n",
    "# Path where the extracted features are stored\n",
    "features_path = PATHS['features_data'].format(features)\n",
    "\n",
    "# If the extracted features are not saved yet, we create them and then store them\n",
    "if not os.path.exists(features_path):\n",
    "    print('Creating feature-extracted data...')\n",
    "    features_data = {}\n",
    "    for i, k in enumerate(anns_with_tiers):\n",
    "        print('Extracting features for video {}/{}'.format(i+1, len(list(anns_with_tiers.keys()))), end = '\\r')\n",
    "        # Get the glosses of the file\n",
    "        anns_dict = anns_with_tiers[k]\n",
    "    \n",
    "        # Loading the numpy files for a specific video\n",
    "        lmrk_dict = load_numpy(cngt_lmrks, k.replace('.eaf', ''))\n",
    "        # Normalize the coordinates, also create a horizontally flipped version\n",
    "        lmrk_dict = normalise_coordinates(get_pixel_coordinates(lmrk_dict))\n",
    "        pose = lmrk_dict['pose']\n",
    "        \n",
    "        if 'only_lmrks' in features_path:\n",
    "            l_lmrk = lmrk_dict['l_hand']\n",
    "            r_lmrk = lmrk_dict['r_hand']\n",
    "            shape = l_lmrk.shape\n",
    "            l_lmrk = l_lmrk.reshape(shape[0], -1)\n",
    "            r_lmrk = r_lmrk.reshape(shape[0], -1)\n",
    "        else:\n",
    "            # Getting landmarks preprocessed, with new format being (wrist, distances, angles) for each frame\n",
    "            l_lmrk = get_wrist_angle_distance(lmrk_dict, 'l_hand', pose).astype(np.float32)\n",
    "            r_lmrk = get_wrist_angle_distance(lmrk_dict, 'r_hand', pose).astype(np.float32)\n",
    "        # Store in the dictionary\n",
    "        features_data[k] = {'l_hand' : l_lmrk, 'r_hand': r_lmrk}\n",
    "    \n",
    "    # Store the extracted features in a numpy file (faster than pickling)\n",
    "    features_data_np = np.array(list(features_data.items()))\n",
    "    np.save(features_path, features_data_np)\n",
    "        \n",
    "else:\n",
    "    print('Feature-extracted data exists, loading...')\n",
    "    # Allow pickle has to be true because we have nested dictionaries\n",
    "    features_data = dict(np.load(features_path, allow_pickle = True))\n",
    "print('Done!')"
   ]
  },
  {
   "cell_type": "markdown",
   "id": "10272186",
   "metadata": {},
   "source": [
    "# Creating the dataset"
   ]
  },
  {
   "cell_type": "code",
   "execution_count": 6,
   "id": "727732be",
   "metadata": {},
   "outputs": [
    {
     "name": "stdout",
     "output_type": "stream",
     "text": [
      "CPU times: total: 1min 33s\n",
      "Wall time: 1min 32s\n"
     ]
    }
   ],
   "source": [
    "%%time\n",
    "fixed_length = 10\n",
    "X, y, stats, var_len, ann_lengths, glosses = make_dataset(anns_with_tiers, features_data, df, val_vids, test_vids, \n",
    "                                                          top_signs, id_split, fixed_length=fixed_length, \n",
    "                                                          zero_pad=True, only_features = only_features)\n",
    "smaller, precise, larger = stats\n",
    "X_train_var_len, y_train_var_len = var_len"
   ]
  },
  {
   "cell_type": "markdown",
   "id": "af0ac14e",
   "metadata": {},
   "source": [
    "# Analyzing annotation length"
   ]
  },
  {
   "cell_type": "code",
   "execution_count": 7,
   "id": "5056f304",
   "metadata": {},
   "outputs": [
    {
     "data": {
      "image/png": "[encoded data removed]",
      "text/plain": [
       "<Figure size 600x300 with 1 Axes>"
      ]
     },
     "metadata": {},
     "output_type": "display_data"
    }
   ],
   "source": [
    "# Showing how long the annotations are (in frames)\n",
    "plt.figure(figsize=(6,3))\n",
    "plt.title('Cumulative density plot of annotation length')\n",
    "plt.xlim(0,50)\n",
    "plt.hist(ann_lengths, bins = 250, cumulative = True, density = True)\n",
    "plt.xlabel('Length (in frames)')\n",
    "plt.ylabel('Density')\n",
    "plt.show()"
   ]
  },
  {
   "cell_type": "code",
   "execution_count": 8,
   "id": "c0a736d4",
   "metadata": {},
   "outputs": [
    {
     "name": "stdout",
     "output_type": "stream",
     "text": [
      "Mean annotation length 8.0\n",
      "Number of annotations, smaller than 10 frames, larger than 10 frames, exactly 10 frames\n",
      "110435 0.63 0.32 0.05\n"
     ]
    }
   ],
   "source": [
    "print('Mean annotation length', np.median(ann_lengths))\n",
    "\n",
    "total = smaller + larger + precise\n",
    "print('Number of annotations, smaller than {0} frames, larger than {0} frames, exactly {0} frames'.format(fixed_length))\n",
    "print(total, round(smaller/total, 2), round(larger/total, 2), round(precise/total, 2))"
   ]
  },
  {
   "cell_type": "markdown",
   "id": "ec624d58",
   "metadata": {},
   "source": [
    "# Further processing data"
   ]
  },
  {
   "cell_type": "code",
   "execution_count": 9,
   "id": "eaeb36b7",
   "metadata": {},
   "outputs": [
    {
     "name": "stdout",
     "output_type": "stream",
     "text": [
      "Unique glosses: 2894\n"
     ]
    }
   ],
   "source": [
    "top_suffix = '_top' if len(top_signs) != 0 else ''\n",
    "\n",
    "# Get the list of possible glosses\n",
    "glosses = list(set(glosses))\n",
    "print('Unique glosses:', len(glosses))\n",
    "\n",
    "# https://stackoverflow.com/questions/42320834/sklearn-changing-string-class-label-to-int\n",
    "# Encode the glosses as numerical\n",
    "le = preprocessing.LabelEncoder()\n",
    "fitted = le.fit(glosses)\n",
    "\n",
    "# Store the transformations of the glosses in a dictionary\n",
    "# I.e. string label -> int label\n",
    "keys = le.classes_\n",
    "values = le.transform(le.classes_)\n",
    "dictionary = dict(zip(keys, values))\n",
    "store_dict(PATHS['label_encoder'].format(top_suffix), dictionary)"
   ]
  },
  {
   "cell_type": "code",
   "execution_count": 10,
   "id": "1014642d",
   "metadata": {
    "scrolled": true
   },
   "outputs": [
    {
     "name": "stdout",
     "output_type": "stream",
     "text": [
      "\tdataset \t\t\tdata shape \t\t label shape\n",
      "Train                    \t(180432, 10, 174)   \t\t(180432,)\n",
      "Train (no mirror)        \t(90216, 10, 174)    \t\t(90216,)\n",
      "Validation               \t(10500, 10, 174)    \t\t(10500,)\n",
      "Test                     \t(9719, 10, 174)     \t\t(9719,)\n"
     ]
    }
   ],
   "source": [
    "# New num. annotations for train, test set (filtering by present ratio, removing NaNs)\n",
    "def prep_X(X):\n",
    "    X = X.reshape(*X.shape[:-2], -1).astype(np.float32)\n",
    "    X = np.nan_to_num(X)\n",
    "    return X\n",
    "\n",
    "datasets = ['Train', 'Train (no mirror)', 'Validation', 'Test']\n",
    "total_instances = 0\n",
    "\n",
    "print('\\tdataset \\t\\t\\tdata shape \\t\\t label shape')\n",
    "for i in range(len(X)):\n",
    "    # Convert all to numpy\n",
    "    X[i] = np.array(X[i])\n",
    "    y[i] = np.array(y[i])\n",
    "    # Transform the gloss labels (e.g. 'GEBAREN-A') to numerical (e.g. 123)\n",
    "    y[i] = fitted.transform(y[i])\n",
    "    # Make sure data has shape (num_data_points, num_frames, num_features)\n",
    "    if len(X[i].shape) > 3:\n",
    "        X[i] = prep_X(X[i])\n",
    "    # Store as smaller representation to save space, also required later when training \n",
    "    # Because otherwise it takes too much memory \n",
    "    X[i] = X[i].astype(np.float16) \n",
    "    print('{:<25}\\t{:<20}\\t\\t{}'.format(datasets[i], str(X[i].shape), y[i].shape))\n",
    "    if datasets[i] != 'Train':\n",
    "        total_instances += X[i].shape[0]\n",
    "    \n",
    "X_train, X_train_no_mirr, X_val, X_test = X\n",
    "y_train, y_train_no_mirr, y_val, y_test = y"
   ]
  },
  {
   "cell_type": "code",
   "execution_count": 11,
   "id": "f42e823b",
   "metadata": {},
   "outputs": [
    {
     "name": "stdout",
     "output_type": "stream",
     "text": [
      "Total number of annotations: 110435\n",
      "Train (no mirror): 82%\tValidation: 10%\tTest: 9%\t"
     ]
    }
   ],
   "source": [
    "print('Total number of annotations:', total_instances)\n",
    "for i in range(1, len(X)):\n",
    "    print('{}: {}%'.format(datasets[i], round(X[i].shape[0]/total_instances*100)), end = '\\t')"
   ]
  },
  {
   "cell_type": "code",
   "execution_count": 12,
   "id": "4629a7a0",
   "metadata": {},
   "outputs": [
    {
     "name": "stdout",
     "output_type": "stream",
     "text": [
      "(10295, 10, 174) (9585, 10, 174)\n"
     ]
    }
   ],
   "source": [
    "# We want to only keep validation and test examples\n",
    "# Which have labels that have been seen during training (i.e. are in the train set)\n",
    "in_train_labels = np.unique(y_train)\n",
    "val_ind = np.where(np.isin(y_val, in_train_labels))[0]\n",
    "test_ind = np.where(np.isin(y_test, in_train_labels))[0]\n",
    "X_val, y_val = X_val[val_ind], y_val[val_ind]\n",
    "X_test, y_test = X_test[test_ind], y_test[test_ind]\n",
    "print(X_val.shape, X_test.shape)"
   ]
  },
  {
   "cell_type": "markdown",
   "id": "6aab7eb0",
   "metadata": {},
   "source": [
    "# Store datasets"
   ]
  },
  {
   "cell_type": "code",
   "execution_count": 13,
   "id": "e63fded1",
   "metadata": {},
   "outputs": [],
   "source": [
    "# Save the datasets and labels to their respective numpy files\n",
    "root = PATHS['data_linguistic'] if only_features else PATHS['data_only_lmrks']\n",
    "# PATHS format: X or y, type of data (train, val, test), features or not, top X signs \n",
    "np.save(root.format('X', 'train', features, top_suffix), X_train)\n",
    "np.save(root.format('y', 'train', features, top_suffix), y_train)\n",
    "\n",
    "np.save(root.format('X', 'train_no_mirror', features, top_suffix), X_train_no_mirr)\n",
    "np.save(root.format('y', 'train_no_mirror', features, top_suffix), y_train_no_mirr)\n",
    "\n",
    "np.save(root.format('X', 'val', features, top_suffix), X_val)\n",
    "np.save(root.format('y', 'val', features, top_suffix), y_val)\n",
    "\n",
    "np.save(root.format('X', 'test', features, top_suffix), X_test)\n",
    "np.save(root.format('y', 'test', features, top_suffix), y_test) "
   ]
  },
  {
   "cell_type": "code",
   "execution_count": 14,
   "id": "0ed504aa",
   "metadata": {},
   "outputs": [
    {
     "data": {
      "text/plain": [
       "(836, 182, 1252, 828, 1671)"
      ]
     },
     "execution_count": 14,
     "metadata": {},
     "output_type": "execute_result"
    }
   ],
   "source": [
    "labels = load_dict(PATHS['label_encoder'].format(top_suffix))\n",
    "labels['GEBOREN-A'], labels['AMSTERDAM'], labels['KLAAR-A'], labels['GEBAREN-A'], labels['NU-A']"
   ]
  },
  {
   "cell_type": "markdown",
   "id": "64f33524",
   "metadata": {},
   "source": [
    "# Finding highly correlated features"
   ]
  },
  {
   "cell_type": "code",
   "execution_count": 16,
   "id": "a28d5455",
   "metadata": {},
   "outputs": [
    {
     "name": "stderr",
     "output_type": "stream",
     "text": [
      "<timed exec>:2: VisibleDeprecationWarning: Creating an ndarray from ragged nested sequences (which is a list-or-tuple of lists-or-tuples-or ndarrays with different lengths or shapes) is deprecated. If you meant to do this, you must specify 'dtype=object' when creating the ndarray.\n"
     ]
    },
    {
     "name": "stdout",
     "output_type": "stream",
     "text": [
      "CPU times: total: 1.64 s\n",
      "Wall time: 1.65 s\n"
     ]
    },
    {
     "data": {
      "text/plain": [
       "(991431, 174)"
      ]
     },
     "execution_count": 16,
     "metadata": {},
     "output_type": "execute_result"
    }
   ],
   "source": [
    "%%time\n",
    "# Convert the variable length train data to numpy\n",
    "X_train = np.array(X_train_var_len)\n",
    "y_train = np.array(y_train_var_len)\n",
    "\n",
    "# The above code gives us unevenly sized annotations, we can't just reshape\n",
    "# So to add each frame as a row, we do it in a loop\n",
    "x = []\n",
    "for data_point in X_train:\n",
    "    for frame in data_point:\n",
    "        x.append(frame)\n",
    "        \n",
    "# We mask any NaN values so we can ignore them during later computations\n",
    "x = np.array(x)\n",
    "x = ma.masked_invalid(x)\n",
    "x.shape"
   ]
  },
  {
   "cell_type": "code",
   "execution_count": 17,
   "id": "8f863a50",
   "metadata": {},
   "outputs": [
    {
     "name": "stdout",
     "output_type": "stream",
     "text": [
      "Corrs being created...\n",
      "(991431, 174)\n",
      "172\r"
     ]
    },
    {
     "name": "stderr",
     "output_type": "stream",
     "text": [
      "<timed exec>:28: UserWarning: Warning: converting a masked element to nan.\n"
     ]
    },
    {
     "name": "stdout",
     "output_type": "stream",
     "text": [
      "Done.\n",
      "CPU times: total: 3h 29min 12s\n",
      "Wall time: 1h 8s\n"
     ]
    }
   ],
   "source": [
    "%%time\n",
    "# NOTE: this takes very long to compute (45-60 minutes on the tested hardware)\n",
    "# This is why we try to avoid recomputing this if possible\n",
    "\n",
    "# We compute the correlations between the values in the train data\n",
    "corrs_path = PATHS['masked_corrs'].format(features)\n",
    "\n",
    "# If we already computed the correlations, reuse them\n",
    "if os.path.exists(corrs_path):\n",
    "    print('Corrs being loaded...')\n",
    "    corrs = np.load(corrs_path)\n",
    "    cols = range(x.shape[-1])\n",
    "    # We need to convert to a masked array (can't save it like that)\n",
    "    if 'masked' in corrs_path:\n",
    "        corrs = ma.masked_invalid(corrs)\n",
    "    corrs = list(corrs)\n",
    "else: # Else, compute the correlations (this takes a while)\n",
    "    print('Corrs being created...')\n",
    "    cols = range(x.shape[-1])\n",
    "    print(x.shape)\n",
    "\n",
    "    corrs = []\n",
    "    for col_1 in range(x.shape[-1]-1):\n",
    "        for col_2 in range(col_1+1, x.shape[-1]):\n",
    "            print(col_1, end = '\\r')\n",
    "            corr = ma.corrcoef(x[:,col_1], x[:, col_2])[0][1]\n",
    "            corrs.append((corr, col_1, col_2))\n",
    "    corrs_np = np.array(corrs)\n",
    "    np.save(corrs_path, corrs_np)\n",
    "print('Done.')"
   ]
  },
  {
   "cell_type": "code",
   "execution_count": 18,
   "id": "ecd196dd",
   "metadata": {},
   "outputs": [
    {
     "name": "stdout",
     "output_type": "stream",
     "text": [
      "Total correlations:\t\t15051\n",
      "Num. of correlations >= 0.9:\t156\n",
      "\n",
      "To be removed: [128, 130, 4, 6, 8, 9, 11, 12, 13, 14, 15, 16, 17, 18, 19, 20, 21, 145, 23, 24, 147, 26, 27, 28, 29, 30, 31, 32, 34, 35, 36, 37, 38, 39, 41, 42, 43, 44, 169, 171, 170, 172, 58, 60, 62, 64, 78, 81, 82, 83, 84, 85, 93, 95, 98, 99, 100, 101, 102, 103, 107, 110, 111, 149, 113, 114, 115, 116, 117, 119, 151, 121, 122, 124, 126]\n",
      "\n",
      "Number of features we remove: 75\n",
      "Number of features remaining: 99\n",
      "\n",
      "\n",
      "High correlation tuples:\n",
      "\n",
      "[(0.9918264022853222, 82, 84), (0.989294890155836, 80, 82), (0.9888438684556139, 11, 13), (0.9844714877917816, 30, 39), (0.9832199152699825, 167, 169), (0.9825041023592658, 32, 41), (0.9820304852600885, 81, 83), (0.9815306782122758, 2, 24), (0.981367857250015, 14, 16), (0.9809075593669315, 98, 100), (0.9795712713413487, 83, 85), (0.9786877836153659, 169, 171), (0.9780112144012227, 4, 30), (0.9780108874448653, 0, 11), (0.9769964252230071, 12, 14), (0.9762570250024152, 101, 103), (0.9730806644789081, 24, 26), (0.9725123590536708, 6, 32), (0.9707694317332057, 32, 39), (0.9700971438677655, 30, 35), (0.9685661201142776, 170, 172), (0.9682175547790663, 0, 13), (0.9678623452069943, 34, 41), (0.9675114856930441, 136, 145), (0.967391250514451, 119, 128), (0.966550853528936, 99, 101), (0.9656333708875735, 27, 29), (0.965503214341649, 49, 58), (0.9647552314452956, 8, 34), (0.9644021965411672, 80, 84), (0.9625585354179215, 13, 15), (0.9625345688260022, 121, 128), (0.9624650986599587, 111, 113), (0.9623302647668641, 117, 122), (0.9615967105977091, 4, 39), (0.9615937865149788, 35, 39), (0.9614166912970901, 89, 111), (0.9601654494292872, 140, 149), (0.9584764309233117, 168, 170), (0.9582643683618526, 119, 126), (0.9577556133219898, 4, 6), (0.9575627578277778, 30, 32), (0.9564046261246167, 53, 62), (0.9561037265403697, 142, 151), (0.9560029907332646, 138, 147), (0.9559572912418111, 91, 117), (0.9548230153242657, 51, 60), (0.9537128706694701, 2, 26), (0.9518747851740463, 55, 64), (0.9511296568883227, 39, 41), (0.9506261932677006, 38, 43), (0.950249069736166, 6, 41), (0.9502441725736456, 6, 8), (0.9499007954648355, 6, 39), (0.9498990057539377, 24, 35), (0.9497998916056816, 4, 35), (0.949513791102922, 79, 81), (0.9494577855448213, 9, 15), (0.9487017872458524, 32, 34), (0.9484460537886299, 114, 116), (0.94720067316344, 9, 13), (0.9450400596976782, 81, 85), (0.945004285433357, 26, 28), (0.9449620184570794, 93, 119), (0.9447019469997389, 8, 41), (0.943684098480023, 11, 15), (0.943088524976568, 9, 11), (0.942254340953804, 36, 38), (0.9421023435566034, 117, 126), (0.9403410630865706, 87, 98), (0.9396490367393778, 35, 37), (0.9390216615213508, 93, 95), (0.9388013134184185, 29, 38), (0.9386640807199101, 6, 30), (0.9370365083220866, 119, 121), (0.9355917340306008, 25, 27), (0.9355758483446885, 95, 121), (0.9338686633236296, 4, 32), (0.9337270380476154, 12, 16), (0.9334706134990596, 8, 32), (0.9330580186095788, 21, 23), (0.9325100800219631, 100, 102), (0.9324734459140199, 0, 15), (0.932225496273356, 30, 41), (0.9314239857602503, 2, 35), (0.9307232031737475, 76, 78), (0.9304879475728333, 117, 119), (0.9299856756691341, 91, 93), (0.9295090984231233, 19, 32), (0.9289968767094232, 29, 36), (0.9289881621135044, 0, 9), (0.9289358159904514, 122, 126), (0.9279602479374464, 30, 37), (0.9266281644990699, 167, 171), (0.9264549068626162, 126, 128), (0.9260936119188846, 19, 30), (0.9259382843031697, 18, 20), (0.9259244880793989, 6, 19), (0.9253243401602227, 87, 100), (0.9250642929624644, 1, 18), (0.9241842314152183, 37, 42), (0.9234631808212062, 21, 34), (0.9234527057129532, 17, 24), (0.922511931929555, 89, 113), (0.9215166720233843, 99, 103), (0.9203618246652312, 2, 17), (0.9202240647814305, 37, 39), (0.920213871497967, 8, 21), (0.9201090446392961, 91, 122), (0.919764789850369, 4, 37), (0.9197249733785618, 108, 110), (0.9195219225595647, 4, 19), (0.919513886611946, 32, 42), (0.9190448601532599, 19, 21), (0.9189074141353585, 13, 20), (0.918436722909238, 24, 28), (0.9178293862184406, 79, 83), (0.9165172410462435, 26, 35), (0.9157553125004679, 42, 44), (0.9146962866777285, 19, 39), (0.9133869932096089, 10, 12), (0.9125647113777294, 19, 42), (0.9120064761801141, 6, 34), (0.91151523659269, 113, 115), (0.9112950064722686, 93, 126), (0.9109520647918256, 95, 128), (0.9107926600620206, 105, 107), (0.9104142568611471, 2, 28), (0.91035115734512, 29, 31), (0.9101165455080252, 111, 122), (0.9099725675240581, 16, 31), (0.9097836467883267, 6, 42), (0.9091787299467894, 24, 30), (0.9085669067331793, 96, 102), (0.9080732829747803, 98, 102), (0.9068784554315351, 125, 130), (0.9068297796469219, 4, 41), (0.9065830584412609, 2, 4), (0.9061084552570485, 168, 172), (0.9057055911677663, 34, 44), (0.9054030419876746, 39, 42), (0.9053723833860252, 11, 20), (0.9052275023512079, 19, 37), (0.9043058180047822, 112, 114), (0.9021747672374404, 97, 99), (0.9020242598533456, 13, 16), (0.9015337447891784, 95, 119), (0.9015221786040867, 122, 124), (0.9014573469241197, 91, 124), (0.9012307391302476, 21, 32), (0.9006243437010524, 93, 128), (0.9005632520803427, 21, 44), (0.9005245698280057, 13, 31), (0.900232820676051, 41, 42), (0.9001045777765913, 32, 35), (0.9000817438282763, 117, 124)]\n"
     ]
    }
   ],
   "source": [
    "# Continuation of the block above this one\n",
    "print('Total correlations:\\t\\t{}'.format(len(corrs)))\n",
    "num_high_corr = 0\n",
    "high_corrs = []\n",
    "removable = []\n",
    "corr_thresh = 0.9\n",
    "for corr in corrs:\n",
    "    if abs(corr[0]) >= corr_thresh:\n",
    "        corr = [corr[0], int(corr[1]), int(corr[2])]\n",
    "        high_corrs.append(tuple(corr))\n",
    "        # Remove the first feature of the high corr. pair\n",
    "        removable.append(sorted(corr[1:])[-1])\n",
    "        num_high_corr += 1\n",
    "print('Num. of correlations >= {}:\\t{}'.format(corr_thresh, num_high_corr))\n",
    "to_remove = list(set(removable))\n",
    "\n",
    "print('\\nTo be removed:', to_remove)\n",
    "remain = set(cols) - set(to_remove)\n",
    "\n",
    "print('\\nNumber of features we remove:', len(to_remove))\n",
    "print('Number of features remaining:', len(list(remain)))\n",
    "\n",
    "print('\\n\\nHigh correlation tuples:\\n')\n",
    "print(sorted(high_corrs, key = lambda x: x[0], reverse = True))"
   ]
  },
  {
   "cell_type": "code",
   "execution_count": 19,
   "id": "58e77953",
   "metadata": {},
   "outputs": [
    {
     "name": "stdout",
     "output_type": "stream",
     "text": [
      "15051\n",
      "to_remove: [1, 2, 4, 6, 8, 9, 11, 12, 13, 14, 15, 16, 17, 18, 19, 20, 21, 22, 23, 24, 26, 27, 28, 29, 30, 31, 32, 33, 34, 35, 36, 37, 38, 39, 40, 41, 42, 43, 44, 53, 54, 58, 60, 62, 64, 78, 79, 81, 82, 83, 84, 85, 91, 93, 95, 96, 98, 99, 100, 101, 102, 103, 104, 105, 106, 107, 108, 110, 111, 113, 114, 115, 116, 117, 118, 119, 121, 122, 123, 124, 125, 126, 127, 128, 129, 130, 131, 140, 141, 145, 147, 149, 151, 167, 168, 169, 170, 171, 172, 173]\n",
      "Number of features we remove: 100\n",
      "Number of features remaining: 74\n"
     ]
    }
   ],
   "source": [
    "# Continuation of the block above this one\n",
    "print(len(corrs))\n",
    "num_high_corr = 0\n",
    "high_corrs = []\n",
    "removable = []\n",
    "for corr in corrs:\n",
    "    if abs(corr[0]) >= 0.80:\n",
    "        high_corrs.append(corr)\n",
    "        removable.append(corr[-1])\n",
    "        num_high_corr += 1\n",
    "# print(num_high_corr)\n",
    "# print(list(set(removable)))\n",
    "# print(sorted(high_corrs, key = lambda x: x[0], reverse = True))\n",
    "\n",
    "to_remove = np.array(list(set(removable))).astype(np.int64)\n",
    "remain = set(cols) - set(to_remove)\n",
    "print('to_remove:', list(to_remove))\n",
    "print('Number of features we remove:', len(to_remove))\n",
    "print('Number of features remaining:', len(list(remain)))"
   ]
  },
  {
   "cell_type": "code",
   "execution_count": 20,
   "id": "a8c4a31e",
   "metadata": {},
   "outputs": [
    {
     "name": "stdout",
     "output_type": "stream",
     "text": [
      "86\n",
      "Remain length: 74\n",
      "Remaining of left hand:\n",
      "[0, 3, 5, 7, 10, 25, 45, 46, 47, 48, 49, 50, 51, 52, 55, 56, 57, 59, 61, 63, 65, 66, 67, 68, 69, 70, 71, 72, 73, 74, 75, 76, 77, 80, 86] (35 features)\n",
      "Remaining of right hand:\n",
      "[0, 1, 2, 3, 5, 7, 10, 22, 25, 33, 45, 46, 47, 48, 49, 50, 51, 52, 55, 56, 57, 59, 61, 63, 65, 66, 67, 68, 69, 70, 71, 72, 73, 74, 75, 76, 77, 78, 79] (39 features)\n",
      "Extra features right hand: [1, 2, 22, 33, 78, 79]\n",
      "Extra features left hand: [80, 86]\n",
      "Same for both hands: [0, 3, 5, 7, 10, 25, 45, 46, 47, 48, 49, 50, 51, 52, 55, 56, 57, 59, 61, 63, 65, 66, 67, 68, 69, 70, 71, 72, 73, 74, 75, 76, 77]\n"
     ]
    }
   ],
   "source": [
    "# Analyze which features remain\n",
    "def feature_selection_analysis(num_features, to_remove):\n",
    "    half_features = round(num_features/2) - 1\n",
    "    print(half_features)\n",
    "    rem = set(range(x.shape[-1])) - set(to_remove)\n",
    "    print('Remain length:', len(rem))\n",
    "    rem_first = [r for r in sorted(rem) if r <= half_features]\n",
    "    rem_second = [r-(half_features+1) for r in sorted(rem) if r > half_features]\n",
    "    print('Remaining of left hand:')\n",
    "    print(rem_first, '({} features)'.format(len(rem_first)))\n",
    "    print('Remaining of right hand:')\n",
    "    print(rem_second, '({} features)'.format(len(rem_second)))\n",
    "\n",
    "    print('Extra features right hand:', sorted(set(rem_second) - set(rem_first)))\n",
    "    print('Extra features left hand:', sorted(set(rem_first) - set(rem_second)))\n",
    "    \n",
    "    print('Same for both hands:', sorted(set(rem_second) & set(rem_first)))\n",
    "# We use cols to get the number of features\n",
    "feature_selection_analysis(len(cols), to_remove)"
   ]
  },
  {
   "cell_type": "code",
   "execution_count": 21,
   "id": "fb3dcd95",
   "metadata": {},
   "outputs": [
    {
     "name": "stdout",
     "output_type": "stream",
     "text": [
      "Counter({0.0: 9527, 0.1: 1395, -0.1: 817, 0.7: 533, 0.6: 508, 0.2: 420, 0.8: 392, 0.5: 260, 0.9: 240, -0.2: 206, 0.3: 192, 0.4: 85, 1.0: 53, -0.3: 46, -0.4: 24, -0.5: 3, -0.6: 3, -0.7: 2})\n"
     ]
    },
    {
     "name": "stderr",
     "output_type": "stream",
     "text": [
      "D:\\Anaconda\\envs\\thesis\\lib\\site-packages\\numpy\\ma\\core.py:2826: UserWarning: Warning: converting a masked element to nan.\n",
      "  _data = np.array(data, dtype=dtype, copy=copy,\n"
     ]
    }
   ],
   "source": [
    "# We round the values in the correlations, then remove masked values because we can't count them\n",
    "# Then we print a counter of the (rounded) correlations\n",
    "corrs_round = np.ma.array([np.round(c[0], 1) for c in corrs])\n",
    "corrs_round_not_masked = corrs_round[~corrs_round.mask]\n",
    "print(Counter(corrs_round_not_masked))"
   ]
  },
  {
   "cell_type": "code",
   "execution_count": null,
   "id": "8330ea32",
   "metadata": {},
   "outputs": [],
   "source": []
  }
 ],
 "metadata": {
  "kernelspec": {
   "display_name": "Python 3 (ipykernel)",
   "language": "python",
   "name": "python3"
  },
  "language_info": {
   "codemirror_mode": {
    "name": "ipython",
    "version": 3
   },
   "file_extension": ".py",
   "mimetype": "text/x-python",
   "name": "python",
   "nbconvert_exporter": "python",
   "pygments_lexer": "ipython3",
   "version": "3.10.9"
  },
  "vscode": {
   "interpreter": {
    "hash": "54d668a7a2b723eaa45db485aeb9405c48b3714a12ae318aa481966bf3ee5079"
   }
  }
 },
 "nbformat": 4,
 "nbformat_minor": 5
}
